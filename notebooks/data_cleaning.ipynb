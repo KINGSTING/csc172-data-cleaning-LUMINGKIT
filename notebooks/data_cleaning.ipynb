{
 "cells": [
  {
   "cell_type": "code",
   "execution_count": null,
   "id": "b398b6ce",
   "metadata": {},
   "outputs": [],
   "source": [
    "# 1. Import libraries\n",
    "import pandas as pd"
   ]
  },
  {
   "cell_type": "code",
   "execution_count": null,
   "id": "87df73c9",
   "metadata": {},
   "outputs": [],
   "source": [
    "# 2. Load raw dataset\n",
    "df = pd.read_csv(\"../data/raw_dataset.csv\")"
   ]
  },
  {
   "cell_type": "code",
   "execution_count": null,
   "id": "890a29d9",
   "metadata": {},
   "outputs": [],
   "source": [
    "# 3. Exploratory checks\n",
    "print(\"=== Dataset Info ===\")\n",
    "df.info()"
   ]
  },
  {
   "cell_type": "code",
   "execution_count": null,
   "id": "61d4c88e",
   "metadata": {},
   "outputs": [],
   "source": [
    "print(\"\\n=== Dataset Description ===\")\n",
    "print(df.describe(include=\"all\"))"
   ]
  },
  {
   "cell_type": "code",
   "execution_count": null,
   "id": "fd929b14",
   "metadata": {},
   "outputs": [],
   "source": [
    "# 4. Missing values check\n",
    "print(\"\\n=== Missing Values Per Column ===\")\n",
    "print(df.isnull().sum())"
   ]
  },
  {
   "cell_type": "code",
   "execution_count": null,
   "id": "21b70b83",
   "metadata": {
    "lines_to_next_cell": 2
   },
   "outputs": [],
   "source": [
    "# 5. Duplicate rows check\n",
    "duplicates = df.duplicated().sum()\n",
    "print(f\"\\n=== Duplicate Rows Found: {duplicates} ===\")"
   ]
  },
  {
   "cell_type": "markdown",
   "id": "94916d30",
   "metadata": {},
   "source": [
    "🧹 Data Cleaning Notebook for Titanic Dataset"
   ]
  },
  {
   "cell_type": "code",
   "execution_count": null,
   "id": "b565afa0",
   "metadata": {},
   "outputs": [],
   "source": [
    "## 1. Import Libraries\n",
    "import pandas as pd\n",
    "import numpy as np\n",
    "import re"
   ]
  },
  {
   "cell_type": "code",
   "execution_count": null,
   "id": "abd11e0a",
   "metadata": {},
   "outputs": [],
   "source": [
    "## 2. Load Dataset\n",
    "df = pd.read_csv(\"../data/raw_dataset.csv\")\n",
    "print(\"Original Shape:\", df.shape)\n",
    "df.head()"
   ]
  },
  {
   "cell_type": "code",
   "execution_count": null,
   "id": "255b273b",
   "metadata": {},
   "outputs": [],
   "source": [
    "## 3. Initial Exploration\n",
    "df.info()\n",
    "df.describe(include=\"all\")"
   ]
  },
  {
   "cell_type": "markdown",
   "id": "d84e2d35",
   "metadata": {},
   "source": [
    "================================================================\n",
    "4. Handle Missing Values\n",
    "================================================================"
   ]
  },
  {
   "cell_type": "code",
   "execution_count": null,
   "id": "738a4483",
   "metadata": {},
   "outputs": [],
   "source": [
    "# Age → fill missing with median, convert to int\n",
    "df['Age'] = df['Age'].fillna(df['Age'].median()).astype(int)"
   ]
  },
  {
   "cell_type": "code",
   "execution_count": null,
   "id": "d116e0f9",
   "metadata": {},
   "outputs": [],
   "source": [
    "# Embarked → fill missing with most common (mode)\n",
    "df['Embarked'] = df['Embarked'].fillna(df['Embarked'].mode()[0])"
   ]
  },
  {
   "cell_type": "code",
   "execution_count": null,
   "id": "7d36d42d",
   "metadata": {},
   "outputs": [],
   "source": [
    "# Cabin → replace NaN with 'Unknown'\n",
    "df['Cabin'] = df['Cabin'].fillna('Unknown')"
   ]
  },
  {
   "cell_type": "code",
   "execution_count": null,
   "id": "bc6f6e54",
   "metadata": {},
   "outputs": [],
   "source": [
    "# Drop rows that are entirely empty\n",
    "df = df.dropna(how=\"all\")"
   ]
  },
  {
   "cell_type": "markdown",
   "id": "926933a1",
   "metadata": {},
   "source": [
    "================================================================\n",
    "5. Clean Name Column\n",
    "================================================================"
   ]
  },
  {
   "cell_type": "code",
   "execution_count": null,
   "id": "422c46c5",
   "metadata": {},
   "outputs": [],
   "source": [
    "# Remove titles (Mr., Mrs., Miss., Master., Dr., etc.)\n",
    "df['Name'] = df['Name'].str.replace(r\"(Mr\\.|Mrs\\.|Miss\\.|Master\\.|Don\\.|Dr\\.|Rev\\.)\", \"\", regex=True)"
   ]
  },
  {
   "cell_type": "code",
   "execution_count": null,
   "id": "ac5f356e",
   "metadata": {
    "lines_to_next_cell": 1
   },
   "outputs": [],
   "source": [
    "# Remove parentheses and contents inside them\n",
    "df['Name'] = df['Name'].str.replace(r\"\\(.*\\)\", \"\", regex=True).str.strip()"
   ]
  },
  {
   "cell_type": "code",
   "execution_count": null,
   "id": "2dda4f2e",
   "metadata": {
    "lines_to_next_cell": 1
   },
   "outputs": [],
   "source": [
    "# Split Surname, Firstname -> reorder to Firstname Surname\n",
    "def reorder_name(name):\n",
    "    if \",\" in name:\n",
    "        parts = [p.strip() for p in name.split(\",\")]\n",
    "        if len(parts) >= 2:\n",
    "            return parts[1] + \" \" + parts[0]\n",
    "    return name"
   ]
  },
  {
   "cell_type": "code",
   "execution_count": null,
   "id": "f2e57d30",
   "metadata": {},
   "outputs": [],
   "source": [
    "df['Name'] = df['Name'].apply(reorder_name)"
   ]
  },
  {
   "cell_type": "markdown",
   "id": "ab0d0232",
   "metadata": {},
   "source": [
    "================================================================\n",
    "6. Ticket Column Cleaning\n",
    "================================================================"
   ]
  },
  {
   "cell_type": "code",
   "execution_count": null,
   "id": "f245d3c1",
   "metadata": {},
   "outputs": [],
   "source": [
    "# Extract numeric part of ticket (remove letters, spaces, dots)\n",
    "df['Ticket'] = df['Ticket'].astype(str).str.replace(r\"\\D\", \"\", regex=True)"
   ]
  },
  {
   "cell_type": "code",
   "execution_count": null,
   "id": "351b7e1f",
   "metadata": {},
   "outputs": [],
   "source": [
    "# Drop duplicates based on Ticket Number\n",
    "df = df.drop_duplicates(subset=['Ticket'])"
   ]
  },
  {
   "cell_type": "code",
   "execution_count": null,
   "id": "0043eb84",
   "metadata": {},
   "outputs": [],
   "source": [
    "# Ensure Ticket column is numeric\n",
    "df['Ticket'] = pd.to_numeric(df['Ticket'], errors='coerce')"
   ]
  },
  {
   "cell_type": "markdown",
   "id": "50177328",
   "metadata": {},
   "source": [
    "================================================================\n",
    "7. Standardize Sex Column\n",
    "================================================================"
   ]
  },
  {
   "cell_type": "code",
   "execution_count": null,
   "id": "7bb6ec90",
   "metadata": {},
   "outputs": [],
   "source": [
    "df['Sex'] = df['Sex'].str.strip().str.lower()"
   ]
  },
  {
   "cell_type": "markdown",
   "id": "6cbbd9a2",
   "metadata": {},
   "source": [
    "================================================================\n",
    "8. Fare Column\n",
    "================================================================"
   ]
  },
  {
   "cell_type": "code",
   "execution_count": null,
   "id": "e82ab06f",
   "metadata": {},
   "outputs": [],
   "source": [
    "# Fill missing fares with median\n",
    "df['Fare'] = df['Fare'].fillna(df['Fare'].median())"
   ]
  },
  {
   "cell_type": "code",
   "execution_count": null,
   "id": "90967297",
   "metadata": {},
   "outputs": [],
   "source": [
    "# Round to 2 decimal places\n",
    "df['Fare'] = df['Fare'].round(2)"
   ]
  },
  {
   "cell_type": "markdown",
   "id": "3ecb6b72",
   "metadata": {},
   "source": [
    "================================================================\n",
    "9. Cabin Column\n",
    "================================================================"
   ]
  },
  {
   "cell_type": "code",
   "execution_count": null,
   "id": "15b503ea",
   "metadata": {},
   "outputs": [],
   "source": [
    "# Keep only the first letter (deck)\n",
    "df['Cabin'] = df['Cabin'].apply(lambda x: x[0] if x != 'Unknown' else 'Unknown')"
   ]
  },
  {
   "cell_type": "markdown",
   "id": "30404c1c",
   "metadata": {},
   "source": [
    "================================================================\n",
    "10. Remove Duplicate Rows\n",
    "================================================================"
   ]
  },
  {
   "cell_type": "code",
   "execution_count": null,
   "id": "6043384a",
   "metadata": {},
   "outputs": [],
   "source": [
    "df = df.drop_duplicates()"
   ]
  },
  {
   "cell_type": "code",
   "execution_count": null,
   "id": "4aefc0e8",
   "metadata": {},
   "outputs": [],
   "source": [
    "print(\"Cleaned Shape:\", df.shape)"
   ]
  },
  {
   "cell_type": "code",
   "execution_count": null,
   "id": "88249144",
   "metadata": {},
   "outputs": [],
   "source": [
    "# ================================================================\n",
    "# 11. Drop Cabin Column\n",
    "# ================================================================\n",
    "if 'Cabin' in df.columns:\n",
    "    df = df.drop(columns=['Cabin'])\n",
    "    print(\"\\n=== Dropped Cabin Column ===\")"
   ]
  },
  {
   "cell_type": "code",
   "execution_count": null,
   "id": "e3374645",
   "metadata": {},
   "outputs": [],
   "source": [
    "# ================================================================\n",
    "# 12. Save Cleaned Dataset\n",
    "# ================================================================\n",
    "df.to_csv(\"../data/cleaned_dataset.csv\", index=False)\n",
    "print(\"✅ Cleaned dataset saved!\")"
   ]
  }
 ],
 "metadata": {
  "jupytext": {
   "cell_metadata_filter": "-all",
   "main_language": "python",
   "notebook_metadata_filter": "-all"
  }
 },
 "nbformat": 4,
 "nbformat_minor": 5
}
